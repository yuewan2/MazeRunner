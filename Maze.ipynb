{
 "cells": [
  {
   "cell_type": "code",
   "execution_count": 432,
   "metadata": {},
   "outputs": [
    {
     "name": "stdout",
     "output_type": "stream",
     "text": [
      "Maze.ipynb        mediumMaze.txt    smallSearch.txt\r\n",
      "Untitled.ipynb    mediumSearch.txt  testMaze.txt\r\n",
      "bigMaze.txt       openMaze.txt      tinySearch.txt\r\n"
     ]
    }
   ],
   "source": [
    "ls"
   ]
  },
  {
   "cell_type": "code",
   "execution_count": 433,
   "metadata": {
    "collapsed": true
   },
   "outputs": [],
   "source": [
    "import copy\n",
    "import numpy as np\n",
    "import numpy.linalg as la\n",
    "import time\n",
    "from collections import deque"
   ]
  },
  {
   "cell_type": "code",
   "execution_count": 434,
   "metadata": {
    "collapsed": true
   },
   "outputs": [],
   "source": [
    "mediumMaze = []\n",
    "bigMaze = []\n",
    "openMaze = []\n",
    "testMaze = []\n",
    "mediumSearch = []\n",
    "smallSearch = []\n",
    "tinySearch = []"
   ]
  },
  {
   "cell_type": "markdown",
   "metadata": {},
   "source": [
    "## Check the Maze:"
   ]
  },
  {
   "cell_type": "code",
   "execution_count": null,
   "metadata": {
    "collapsed": true
   },
   "outputs": [],
   "source": [
    "###### with open(\"openMaze.txt\") as f:\n",
    "    for line in f:\n",
    "        openMaze.append(line.rstrip())\n",
    "print(len(openMaze[0]), len(openMaze))\n",
    "openMaze\n",
    "# start = (23,1)\n",
    "# end = (9,18)"
   ]
  },
  {
   "cell_type": "code",
   "execution_count": 437,
   "metadata": {},
   "outputs": [
    {
     "data": {
      "text/plain": [
       "['%%%%%%%%%%%%%%%%%%%%%%%%%%%%%%%%%%%%%%%%%%%%%%%%%%%%%%%%%%%%%',\n",
       " '%P    %       %             %         %     %           %   %',\n",
       " '%%% %%% % %%%%% %%%%% %%%%% %%% %%%%%%% % %%% % %%%%%%% % %%%',\n",
       " '%   %         %   % %   % %   %         %   % %     % % %   %',\n",
       " '% %%% %%% %%% %%% % %%% % %%% % %%%%%% %%%% % %%%%% % % %%% %',\n",
       " '% %   % %   % %   %   % %                 % %   % % %       %',\n",
       " '%   %%% % % % % % % % % %%% % %%%%%%% %%% % %%% % % %%%%%%% %',\n",
       " '% %   %   % %   %   % %   % %     %   %   %     % %   %   % %',\n",
       " '% %%%%%%% % % %%% %%% %%% % %%% %%% % % %%%%%%%%% %%% % % % %',\n",
       " '%   %   % %       % % %   %   % %   % % %     %     %   % % %',\n",
       " '% % %%% % %%% %%%%% % % %%%%% % % %%% % % %%% %%%%% %%%%% %%%',\n",
       " '% %   % %   %         % %   % %     %   % % %           %   %',\n",
       " '% %%%%% %%%%% %%%%% %%% % % % %%%%%%%%% % % %%% %%% %%% %%% %',\n",
       " '%     %       %         % % %         %   %     %     %   % %',\n",
       " '% %%% %%% %%%%% %%%%% % %%% %%% %%%%% %%%%%% %%%% %%% %%% % %',\n",
       " '%   %     %     %   % %         % % %   %     %   %     % % %',\n",
       " '% % %%% %%% %%% %%% % %%% %%%% %% % %%% % %%% % %%% %%% %%% %',\n",
       " '% %   %   %       %       %       %   %   % % % %     %   % %',\n",
       " '% % %%% % %%%% %% %%%%%%%%% %%%%% %%% % %%% % % % % %%%%% % %',\n",
       " '% %     %   %     %       %   %       %     %   % % %   % % %',\n",
       " '% %%%% %% % % %%%%% %%%%% %%% % %%%% %% %%% %% %% %%% % % % %',\n",
       " '%         % %           %     %           %           % %  .%',\n",
       " '%%%%%%%%%%%%%%%%%%%%%%%%%%%%%%%%%%%%%%%%%%%%%%%%%%%%%%%%%%%%%']"
      ]
     },
     "execution_count": 437,
     "metadata": {},
     "output_type": "execute_result"
    }
   ],
   "source": [
    "with open(\"mediumMaze.txt\") as f:\n",
    "    for line in f:\n",
    "        mediumMaze.append(line.rstrip())\n",
    "mediumMaze\n",
    "# start = (1,1)\n",
    "# end = (59,21)"
   ]
  },
  {
   "cell_type": "code",
   "execution_count": 438,
   "metadata": {},
   "outputs": [
    {
     "name": "stdout",
     "output_type": "stream",
     "text": [
      "81 31\n"
     ]
    },
    {
     "data": {
      "text/plain": [
       "['%%%%%%%%%%%%%%%%%%%%%%%%%%%%%%%%%%%%%%%%%%%%%%%%%%%%%%%%%%%%%%%%%%%%%%%%%%%%%%%%%',\n",
       " '% %           %                       %   %     %       %   %               %  .%',\n",
       " '% % %%% %%% %%% %% %%%%%%%%%% %%%%%%% %%% % %%% % % %%% % % % %%%%% %%% %%%%% % %',\n",
       " '%   %     %   % %   %       %   %   %   % % %   % % %     % %     % % % %     % %',\n",
       " '% %%%%    %%% % %%% % % %%% %%% % % %%% % % % %%% % %%%%% % %     % % % % %%%%% %',\n",
       " '%         %   %   %   % % % %   % %       %     %       % % % %   % %   % %     %',\n",
       " '%%% %% %% % %%%%% % %%% % % %  %% % %%%% %% %%% % %%%%% % % % % %%% % %%% % %%% %',\n",
       " '%       % % %   % % % % %   %     % %       % %   %   %   %     %   % %   % % % %',\n",
       " '% %%%%%%% % % % % % % % %%% % %%%%% % %%%%%%% %%%%%%% %%%%%%% %%% %%% % %%% % % %',\n",
       " '%     %   %   %   % % %   %   %           %     %   %   %         %   %   % % % %',\n",
       " '%%%%% % %%%%%   %%% % %%% % %%% %%%     % % %%% % % %%% % %%%%%%% %%% %%% % % % %',\n",
       " '%         %     %   % %   % %   %   %   %   %     %     %   %   % %     % % %   %',\n",
       " '% %%%%%%% % %%%%% %%% % %%% % %%%%%%% %%%%%%%%%%% %%% %%% % % % %%% % %%% % % %%%',\n",
       " '%       % %           % %   %         %         % %   %   % % % %   %     % %   %',\n",
       " '%%% % %%% %%%%% %%%%%%% %%% %    %% %%% %%%%% % %%% % %       % % %%%% %%%% %%% %',\n",
       " '%   %   %     %   %   %       %         %       %   %   % %   %           % %   %',\n",
       " '% % %%% %%%%% % %%% % %%%%% % % %%%%%%%%% %% %%%% % %%%%% %% %%%%%%%%%% %%% % %%%',\n",
       " '% %         % % %   % %   % % %       %   %       % %   %         %     %   % % %',\n",
       " '% % %%% %%%%% % % %%% % % %%% %%%%%%% %%% % %%% % %%% % %% %%%%        %% %%% % %',\n",
       " '%   %   %   % %     % %     %           % %   % % %   %     %     %     %   % % %',\n",
       " '% % %%%%% % % % %%% % % %%% %%% % %%    % %%%%% %%% %%% %%% % %%%%% %%% %%% % % %',\n",
       " '% %       % % %   % %   % %     % %     %     %           % %       % %   % %   %',\n",
       " '% %%% % %%% % %%% % %  %% %%% %%% % %% %%%% % %%%%% %     % %   %% %% %%% % %%% %',\n",
       " '% %   % % %   % % %     %   %     % %       %     % %     %   % %     %   %     %',\n",
       " '%   % % % %   % % %     % % % %%% % % %%%%% %%%%% % % %%%%% % % % %%% % %%% % %%%',\n",
       " '%   % %     %     %     % %   %   % % %     %     % % %     %   %       %   % % %',\n",
       " '%%% %%%% %% % %  %% %% %% % %%% % % % % %%% % %%%%% % % %%%%% %   % % %%% % % % %',\n",
       " '%   %     % % %   % %   %   % % % % % %   % % %     % %   %   %     %   % %     %',\n",
       " '%   % %%% % %%% % % % % % %%% % % % % %%% %%% %% %%%% % % % % % %%%%% % %%% %%% %',\n",
       " '%P      %       % % % %     %   %   %   %             % %   %         %     %   %',\n",
       " '%%%%%%%%%%%%%%%%%%%%%%%%%%%%%%%%%%%%%%%%%%%%%%%%%%%%%%%%%%%%%%%%%%%%%%%%%%%%%%%%%']"
      ]
     },
     "execution_count": 438,
     "metadata": {},
     "output_type": "execute_result"
    }
   ],
   "source": [
    "with open(\"bigMaze.txt\") as f:\n",
    "    for line in f:\n",
    "        bigMaze.append(line.rstrip())\n",
    "print(len(bigMaze[0]), len(bigMaze))\n",
    "bigMaze\n",
    "# start = (1,29)\n",
    "# end = (79,1)"
   ]
  },
  {
   "cell_type": "code",
   "execution_count": 439,
   "metadata": {},
   "outputs": [
    {
     "name": "stdout",
     "output_type": "stream",
     "text": [
      "11 6\n"
     ]
    },
    {
     "data": {
      "text/plain": [
       "['%%%%%%%%%%%',\n",
       " '%P   %.   %',\n",
       " '%    %%%% %',\n",
       " '%    %    %',\n",
       " '%         %',\n",
       " '%%%%%%%%%%%']"
      ]
     },
     "execution_count": 439,
     "metadata": {},
     "output_type": "execute_result"
    }
   ],
   "source": [
    "with open(\"testMaze.txt\") as f:\n",
    "    for line in f:\n",
    "        testMaze.append(line.rstrip())\n",
    "print(len(testMaze[0]), len(testMaze))\n",
    "testMaze"
   ]
  },
  {
   "cell_type": "code",
   "execution_count": 440,
   "metadata": {},
   "outputs": [
    {
     "name": "stdout",
     "output_type": "stream",
     "text": [
      "49 13\n"
     ]
    },
    {
     "data": {
      "text/plain": [
       "['%%%%%%%%%%%%%%%%%%%%%%%%%%%%%%%%%%%%%%%%%%%%%%%%%',\n",
       " '% .  %.        %             %  .%     % %   %  %',\n",
       " '%    %%%% %%%%%% %  % % %%         %%%%  %. %%% %',\n",
       " '%    %.%    % .% %  % %  %   %   %          %   %',\n",
       " '%   .            %.     %%%% %   %% .%%% %      %',\n",
       " '% %%%%% %%%%%%  %%%% %           .%    %. %%%%%%%',\n",
       " '%.      %   .%       .% %%%  %%%%%%  % %  %   % %',\n",
       " '%%% %%  % %%%%%%% %%%%% %    %  . %% % %    %.% %',\n",
       " '%    %  %      %  %      P% %%       %   %%%% % %',\n",
       " '%.      %   %  %  %     %          %       .%   %',\n",
       " '% % %%%   .% %    %% %% %%% %% %  %.%%%%%%%%%%% %',\n",
       " '%   %    %    %              %    %             %',\n",
       " '%%%%%%%%%%%%%%%%%%%%%%%%%%%%%%%%%%%%%%%%%%%%%%%%%']"
      ]
     },
     "execution_count": 440,
     "metadata": {},
     "output_type": "execute_result"
    }
   ],
   "source": [
    "with open(\"mediumSearch.txt\") as f:\n",
    "    for line in f:\n",
    "        mediumSearch.append(line.rstrip())\n",
    "print(len(mediumSearch[0]), len(mediumSearch))\n",
    "mediumSearch"
   ]
  },
  {
   "cell_type": "code",
   "execution_count": 441,
   "metadata": {},
   "outputs": [
    {
     "name": "stdout",
     "output_type": "stream",
     "text": [
      "30 13\n"
     ]
    },
    {
     "data": {
      "text/plain": [
       "['%%%%%%%%%%%%%%%%%%%%%%%%%%%%%%',\n",
       " '%.     P .     %      .  .   %',\n",
       " '%   %%%%% %%%%%% %  % % %%   %',\n",
       " '%   %  %     %   %  % %  %  .%',\n",
       " '%     .%     .   %.   %  %%%%%',\n",
       " '%%%%% %%%% %%%  %%%%%%%      %',\n",
       " '%.               .    % %%%  %',\n",
       " '%% %%%%%%%% %%%%%%%%%%% %.   %',\n",
       " '%       %               % %%%%',\n",
       " '%       %%%%%     %.         %',\n",
       " '%.% %%%    %  %   %% %% %%%%%%',\n",
       " '%          % .%        .     %',\n",
       " '%%%%%%%%%%%%%%%%%%%%%%%%%%%%%%']"
      ]
     },
     "execution_count": 441,
     "metadata": {},
     "output_type": "execute_result"
    }
   ],
   "source": [
    "with open(\"smallSearch.txt\") as f:\n",
    "    for line in f:\n",
    "        smallSearch.append(line.rstrip())\n",
    "print(len(smallSearch[0]), len(smallSearch))\n",
    "smallSearch"
   ]
  },
  {
   "cell_type": "code",
   "execution_count": 442,
   "metadata": {},
   "outputs": [
    {
     "name": "stdout",
     "output_type": "stream",
     "text": [
      "10 9\n"
     ]
    },
    {
     "data": {
      "text/plain": [
       "['%%%%%%%%%%',\n",
       " '%.  %   .%',\n",
       " '% %.% %% %',\n",
       " '% %   .%.%',\n",
       " '% .%P%   %',\n",
       " '%.  .  . %',\n",
       " '% %%%% %.%',\n",
       " '%.    .% %',\n",
       " '%%%%%%%%%%']"
      ]
     },
     "execution_count": 442,
     "metadata": {},
     "output_type": "execute_result"
    }
   ],
   "source": [
    "with open(\"tinySearch.txt\") as f:\n",
    "    for line in f:\n",
    "        tinySearch.append(line.rstrip())\n",
    "print(len(tinySearch[0]), len(tinySearch))\n",
    "tinySearch"
   ]
  },
  {
   "cell_type": "code",
   "execution_count": 443,
   "metadata": {
    "collapsed": true
   },
   "outputs": [],
   "source": [
    "from collections import deque"
   ]
  },
  {
   "cell_type": "code",
   "execution_count": 515,
   "metadata": {
    "collapsed": true
   },
   "outputs": [],
   "source": [
    "import copy\n",
    "import numpy as np\n",
    "import numpy.linalg as la\n",
    "import time"
   ]
  },
  {
   "cell_type": "code",
   "execution_count": 681,
   "metadata": {},
   "outputs": [],
   "source": [
    "class maze():\n",
    "    \n",
    "#   create a maze with list;\n",
    "    def __init__(self, maze=\"mediumMaze.txt\"):\n",
    "        self.cost = {}\n",
    "        self.raw_list = []\n",
    "        self.maze_list = []\n",
    "        self.width = None\n",
    "        self.height = None\n",
    "        self.end = [] # ready for multiple dots\n",
    "        self.start = None\n",
    "        self.visited = [] \n",
    "        self.solution = [] # ready for draw;\n",
    "        \n",
    "        with open(maze) as f:\n",
    "            for line in f:\n",
    "                self.raw_list.append(line.rstrip())\n",
    "        self.width = len(self.raw_list[0])\n",
    "        self.height = len(self.raw_list)\n",
    "        \n",
    "        for line in self.raw_list:\n",
    "            for char in line:\n",
    "                if char == \"%\":\n",
    "                    self.maze_list.append(0)\n",
    "                elif char == \".\":\n",
    "                    self.maze_list.append(\"G\")\n",
    "                    self.end.append((len(self.maze_list)%self.width-1, len(self.maze_list)//self.width))\n",
    "                elif char == \"P\":\n",
    "                    self.maze_list.append(\"P\")\n",
    "                    self.start = ((len(self.maze_list)%self.width-1, len(self.maze_list)//self.width))\n",
    "                else:\n",
    "                    self.maze_list.append(1)\n",
    "\n",
    "    def accessMaze(self, x, y):\n",
    "        return self.maze_list[self.getPoint(x, y)]                \n",
    "    \n",
    "#   get the index in the raw_list;\n",
    "    def getPoint(self, x, y):\n",
    "        if x < self.width and y < self.height:\n",
    "            return y*self.width + x\n",
    "        else:\n",
    "            print(\"Index out of bound!\")\n",
    "            return False\n",
    "    \n",
    "    \n",
    "# The adjacant node who is unvisited and valid\n",
    "    def adjacentList(self, pos):\n",
    "        adjacent = []\n",
    "        x, y = pos\n",
    "        if self.accessMaze(x+1, y) and self.getPoint(x+1, y) not in self.visited:\n",
    "            adjacent.append((x+1, y))\n",
    "        if self.accessMaze(x, y+1) and self.getPoint(x, y+1) not in self.visited:\n",
    "            adjacent.append((x, y+1))\n",
    "        if self.accessMaze(x-1, y) and self.getPoint(x-1, y) not in self.visited:\n",
    "            adjacent.append((x-1, y))\n",
    "        if self.accessMaze(x, y-1) and self.getPoint(x, y-1) not in self.visited:\n",
    "            adjacent.append((x, y-1))\n",
    "        return adjacent\n",
    "    \n",
    "    def dfs(self, start=(1,1), end=(59,21)):\n",
    "        self.visited = []\n",
    "        self.solution = []\n",
    "        self.visited.append(self.getPoint(start[0], start[1]))\n",
    "        self.solution.append(start)\n",
    "        #print(\"start\")\n",
    "        self.dfs_helper(start)\n",
    "        \n",
    "        \n",
    "    def dfs_helper(self, current):\n",
    "        adjacent_nodes = self.adjacentList(current)  \n",
    "        \n",
    "        if current in self.end:\n",
    "            self.solution.append(current)\n",
    "            #print(\"I get the destination!\")\n",
    "            return True\n",
    "        \n",
    "        if not adjacent_nodes:\n",
    "            # Remove it from the visited list\n",
    "            self.solution = self.solution[:-1]\n",
    "            return\n",
    "        \n",
    "        for node in adjacent_nodes:\n",
    "            nextStep= node\n",
    "            self.visited.append(self.getPoint(node[0], node[1]))\n",
    "            self.solution.append((node[0], node[1]))\n",
    "            self.dfs_helper(nextStep)\n",
    "\n",
    "        if self.solution[-1] not in self.end:\n",
    "            self.solution = self.solution[:-1]       \n",
    "\n",
    "        return\n",
    "            \n",
    "        \n",
    "    def bfs(self, start):\n",
    "        self.solution = []\n",
    "        self.bfsHelper(start)\n",
    "       \n",
    "    def bfsHelper(self,start):\n",
    "        self.start = start\n",
    "        self.visited = []\n",
    "        queue = []\n",
    "        parent = {}\n",
    "        queue.append(start)\n",
    "        self.visited.append(self.getPoint(start[0], start[1]))\n",
    "        while queue and len(self.end) != 0:\n",
    "            current = queue[0]\n",
    "            queue = queue[1:]\n",
    "            \n",
    "            if current in self.end:\n",
    "                #print(\"I get to the destination!\")\n",
    "                self.end.remove(current)\n",
    "                # The last step to the solution, track back\n",
    "                self.solution.append(current)\n",
    "\n",
    "                while current != self.start:\n",
    "                    self.solution.append(current)\n",
    "                    current = parent[current]\n",
    "                self.solution = self.solution[::-1]\n",
    "                \n",
    "                #new search:              \n",
    "                print(\"One dot eatten, may continue...\")\n",
    "                return self.bfsHelper(current)\n",
    "                \n",
    "            adjacent_nodes = self.adjacentList(current)\n",
    "            for node in adjacent_nodes:\n",
    "                parent[node] = current\n",
    "                queue.append(node)\n",
    "                self.visited.append(self.getPoint(node[0], node[1]))     \n",
    "        \n",
    "        print(\"Finished All\")\n",
    "        return True\n",
    "    \n",
    "      \n",
    "    def countCost(self):\n",
    "        self.cost = {}\n",
    "        for g in self.end:\n",
    "            for index, cell in enumerate(self.maze_list):\n",
    "                x = index%self.width\n",
    "                y = index//self.width\n",
    "                if not cell:\n",
    "                    self.cost[(x,y)] = np.inf\n",
    "                else:\n",
    "                    self.cost[(x,y)] = abs(x - g[0]) + abs(y - g[1])\n",
    "    \n",
    "    # Heuristics function for single dot maze\n",
    "#     def heurisFunc(self, current):\n",
    "#         delta_x = current[0] - self.end[0][0]\n",
    "#         delta_y = current[1] - self.end[0][1]\n",
    "#         return delta_x + delta_y\n",
    "               \n",
    "    def best_first_search(self, start=(1,1), end=(59,21)):\n",
    "        if not self.cost:\n",
    "            self.countCost()\n",
    "        self.visited = []\n",
    "        self.solution = []\n",
    "        self.visited.append(self.getPoint(start[0], start[1]))\n",
    "        self.solution.append((start[0], start[1]))\n",
    "        self.greedyHelper(start)\n",
    "        \n",
    "    # Sort the adjaceny nodes list based on Manhattan Distance\n",
    "    # ** Single dots implementation **\n",
    "    def greedySort(self, adjacentList):\n",
    "        distance = []\n",
    "        for node in adjacentList:\n",
    "            distance.append(self.cost[node])\n",
    "          \n",
    "        # get the index in term of sorting\n",
    "        sorted_idx = np.argsort(distance) \n",
    "        \n",
    "        # sort the original adjacent node list, ****return a numpy array!****\n",
    "        return np.array(adjacentList)[sorted_idx]               \n",
    "            \n",
    "        \n",
    "    def greedyHelper(self, current): # Almost the same as dfs\n",
    "        if current in self.end:\n",
    "            #print(\"I get the destination!\")\n",
    "            self.solution.append(current)\n",
    "            return True\n",
    "        \n",
    "        adjacent_nodes = self.adjacentList(current)\n",
    "        if not adjacent_nodes:\n",
    "            self.solution = self.solution[:-1]\n",
    "            return\n",
    "        \n",
    "        # Sort the adjacent node list\n",
    "        sorted_adj_nodes = self.greedySort(adjacent_nodes)\n",
    "            \n",
    "        for node in sorted_adj_nodes:\n",
    "            nextStep = tuple(node)\n",
    "            self.visited.append(self.getPoint(node[0], node[1]))\n",
    "            self.solution.append((node[0], node[1]))\n",
    "            self.greedyHelper(nextStep)\n",
    "            \n",
    "        if self.solution[-1] not in self.end:\n",
    "            self.solution = self.solution[:-1]       \n",
    "        \n",
    "        return\n",
    "        \n",
    "        \n",
    "    # Return a sorted queue, act like a priority queue\n",
    "    # Use Manhattan Distance + path cost as f\n",
    "    def ASort(self, queue):\n",
    "\n",
    "    # A* search for single dots\n",
    "    def AStar(self, start, end):\n",
    "        if not self.cost:\n",
    "            self.countCost()\n",
    "     \n",
    "    \n",
    "\n",
    "    def drawSolution(self):\n",
    "        solution = copy.deepcopy(self.raw_list)  \n",
    "        for pos in self.solution:\n",
    "            x, y = pos\n",
    "            if self.raw_list[y][x] == \".\":\n",
    "                solution[y] = solution[y][:x] + \"G\" + solution[y][x+1:]\n",
    "            elif self.raw_list[y][x] == \"P\":\n",
    "                solution[y] = solution[y][:x] + \"P\" + solution[y][x+1:]\n",
    "            else:\n",
    "                solution[y] = solution[y][:x] + \".\" + solution[y][x+1:]\n",
    "        return solution\n",
    "\n",
    "    "
   ]
  },
  {
   "cell_type": "code",
   "execution_count": 671,
   "metadata": {},
   "outputs": [
    {
     "name": "stdout",
     "output_type": "stream",
     "text": [
      "One dot eatten, may continue...\n",
      "One dot eatten, may continue...\n",
      "Finished All\n"
     ]
    },
    {
     "data": {
      "text/plain": [
       "['%%%%%%%%%%%',\n",
       " '%    %G...%',\n",
       " '%    %%%%.%',\n",
       " '% P..%   .%',\n",
       " '%   ..G...%',\n",
       " '%%%%%%%%%%%']"
      ]
     },
     "execution_count": 671,
     "metadata": {},
     "output_type": "execute_result"
    }
   ],
   "source": [
    "m = maze(\"testMaze.txt\")\n",
    "#m = maze(\"tinySearch.txt\")\n",
    "#m = maze(\"smallSearch.txt\")\n",
    "\n",
    "m.bfs(m.start)\n",
    "#m.best_first_search(m.start, m.end[0])\n",
    "#m.dfs(m.start, m.end[0])\n",
    "m.drawSolution()"
   ]
  },
  {
   "cell_type": "code",
   "execution_count": 506,
   "metadata": {},
   "outputs": [
    {
     "name": "stdout",
     "output_type": "stream",
     "text": [
      "One dot eatten, may continue...\n",
      "Finished All\n"
     ]
    },
    {
     "data": {
      "text/plain": [
       "['%%%%%%%%%%%%%%%%%%%%%%%%%%%%%%%%%%%%%%%%%%%%%%%%%%%%%%%%%%%%%%%%%%%%%%%%%%%%%%%%%',\n",
       " '% %           %                       %   %     %       %   %               %..G%',\n",
       " '% % %%% %%% %%% %% %%%%%%%%%% %%%%%%% %%% % %%% % % %%% % % % %%%%% %%% %%%%%.% %',\n",
       " '%   %     %   % %   %       %   %   %   % % %   % % %     % %     % % % %.....% %',\n",
       " '% %%%%    %%% % %%% % % %%% %%% % % %%% % % % %%% % %%%%% % %     % % % %.%%%%% %',\n",
       " '%         %   %   %   % % % %   % %       %     %       % % % %   % %   %.%     %',\n",
       " '%%% %% %% % %%%%% % %%% % % %  %% % %%%% %% %%% % %%%%% % % % % %%% % %%%.% %%% %',\n",
       " '%       % % %   % % % % %   %     % %       % %   %   %   %     %   % %...% % % %',\n",
       " '% %%%%%%% % % % % % % % %%% % %%%%% % %%%%%%% %%%%%%% %%%%%%% %%% %%% %.%%% % % %',\n",
       " '%     %   %   %   % % %   %   %           %     %   %   %         %   %...% % % %',\n",
       " '%%%%% % %%%%%   %%% % %%% % %%% %%%     % % %%% % % %%% % %%%%%%% %%% %%%.% % % %',\n",
       " '%         %     %   % %   % %   %   %   %   %     %     %   %...% %     %.% %   %',\n",
       " '% %%%%%%% % %%%%% %%% % %%% % %%%%%%% %%%%%%%%%%% %%% %%% % %.%.%%% % %%%.% % %%%',\n",
       " '%       % %           % %   %         %         % %...%   % %.%.%   % ....% %   %',\n",
       " '%%% % %%% %%%%% %%%%%%% %%% %    %% %%% %%%%% % %%%.%.%.......%.% %%%%.%%%% %%% %',\n",
       " '%   %   %     %   %   %       %         %....   %...%...% %   %........   % %   %',\n",
       " '% % %%% %%%%% % %%% % %%%%% % % %%%%%%%%%.%%.%%%%.% %%%%% %% %%%%%%%%%% %%% % %%%',\n",
       " '% %         % % %   % %   % % %       %  .% ......% %   %         %     %   % % %',\n",
       " '% % %%% %%%%% % % %%% % % %%% %%%%%%% %%%.% %%% % %%% % %% %%%%        %% %%% % %',\n",
       " '%   %   %   % %.....% %.....%  ........ %.%   % % %   %     %     %     %   % % %',\n",
       " '% % %%%%% % % %.%%%.% %.%%%.%%%.% %%  . %.%%%%% %%% %%% %%% % %%%%% %%% %%% % % %',\n",
       " '% %       % % %...%.% ..% %.....% %   . %...  %           % %       % %   % %   %',\n",
       " '% %%% % %%% % %%%.%.% .%% %%% %%% % %%.%%%%.% %%%%% %     % %   %% %% %%% % %%% %',\n",
       " '% %   % % %   % %.%.... %   %     % % ......%     % %     %   % %     %   %     %',\n",
       " '%   % % % %...% %.%     % % % %%% % % %%%%% %%%%% % % %%%%% % % % %%% % %%% % %%%',\n",
       " '%   % % ....%.....%     % %   %   % % %     %     % % %     %   %       %   % % %',\n",
       " '%%% %%%%.%% % %  %% %% %% % %%% % % % % %%% % %%%%% % % %%%%% %   % % %%% % % % %',\n",
       " '%   %.... % % %   % %   %   % % % % % %   % % %     % %   %   %     %   % %     %',\n",
       " '%   %.%%% % %%% % % % % % %%% % % % % %%% %%% %% %%%% % % % % % %%%%% % %%% %%% %',\n",
       " '%P....  %       % % % %     %   %   %   %             % %   %         %     %   %',\n",
       " '%%%%%%%%%%%%%%%%%%%%%%%%%%%%%%%%%%%%%%%%%%%%%%%%%%%%%%%%%%%%%%%%%%%%%%%%%%%%%%%%%']"
      ]
     },
     "execution_count": 506,
     "metadata": {},
     "output_type": "execute_result"
    }
   ],
   "source": [
    "m = maze(\"bigMaze.txt\")\n",
    "#%timeit m.dfs(start=m.start, end=m.end[0])\n",
    "m.bfs(start=m.start)\n",
    "#m.best_first_search(start=m.start, end=m.end[0])\n",
    "\n",
    "m.drawSolution()"
   ]
  },
  {
   "cell_type": "code",
   "execution_count": 409,
   "metadata": {},
   "outputs": [
    {
     "name": "stdout",
     "output_type": "stream",
     "text": [
      "start a new search\n",
      "All eatten\n"
     ]
    },
    {
     "data": {
      "text/plain": [
       "['%%%%%%%%%%%%%%%%%%%%%%%%%%%%%%%%%%%%%%%%%%%%%%%%%%%%%%%%%%%%%',\n",
       " '%P..  %       %             %         %     %           %   %',\n",
       " '%%%.%%% % %%%%% %%%%% %%%%% %%% %%%%%%% % %%% % %%%%%%% % %%%',\n",
       " '%...%.........%   % %   % %   %         %   % %     % % %   %',\n",
       " '%.%%%.%%% %%%.%%% % %%% % %%% % %%%%%% %%%% % %%%%% % % %%% %',\n",
       " '%.%...% %   %.%   %   % %                 % %   % % %       %',\n",
       " '%...%%% % % %.% % % % % %%% % %%%%%%% %%% % %%% % % %%%%%%% %',\n",
       " '% %   %   % %.  %   % %   % %     %   %   %     % %   %   % %',\n",
       " '% %%%%%%% % %.%%% %%% %%% % %%% %%% % % %%%%%%%%% %%% % % % %',\n",
       " '%   %   % %  .    % % %   %   % %   % % %     %     %   % % %',\n",
       " '% % %%% % %%%.%%%%% % % %%%%% % % %%% % % %%% %%%%% %%%%% %%%',\n",
       " '% %   % %   %.......  % %   % %     %   % % %  .....    %   %',\n",
       " '% %%%%% %%%%% %%%%%.%%% % % % %%%%%%%%% % % %%%.%%%.%%% %%% %',\n",
       " '%     %       %    .....% % %  .......%   % ....%  ...%   % %',\n",
       " '% %%% %%% %%%%% %%%%% %.%%% %%%.%%%%%.%%%%%%.%%%% %%%.%%% % %',\n",
       " '%   %     %     %   % %.........% % %...%.... %   %  ...% % %',\n",
       " '% % %%% %%% %%% %%% % %%% %%%% %% % %%%.%.%%% % %%% %%%.%%% %',\n",
       " '% %   %   %       %       %       %   %...% % % %     %...% %',\n",
       " '% % %%% % %%%% %% %%%%%%%%% %%%%% %%% % %%% % % % % %%%%%.% %',\n",
       " '% %     %   %     %       %   %       %     %   % % %   %.% %',\n",
       " '% %%%% %% % % %%%%% %%%%% %%% % %%%% %% %%% %% %% %%% % %.% %',\n",
       " '%         % %           %     %           %           % %..G%',\n",
       " '%%%%%%%%%%%%%%%%%%%%%%%%%%%%%%%%%%%%%%%%%%%%%%%%%%%%%%%%%%%%%']"
      ]
     },
     "execution_count": 409,
     "metadata": {},
     "output_type": "execute_result"
    }
   ],
   "source": [
    "m = maze(\"mediumMaze.txt\")\n",
    "#%timeit m.dfs(start=m.start, end=m.end[0])\n",
    "m.bfs(start=m.start)\n",
    "#%timeit m.best_first_search(start=m.start, end=m.end[0])\n",
    "\n",
    "m.drawSolution()"
   ]
  },
  {
   "cell_type": "code",
   "execution_count": 502,
   "metadata": {},
   "outputs": [
    {
     "name": "stdout",
     "output_type": "stream",
     "text": [
      "start a new search\n",
      "Finished All\n"
     ]
    },
    {
     "data": {
      "text/plain": [
       "['%%%%%%%%%%%%%%%%%%%%%%%%%%%%%%%%%%%%%',\n",
       " '%                     %P.......     %',\n",
       " '%                     %       .     %',\n",
       " '%                     %       .     %',\n",
       " '%                     %       .     %',\n",
       " '%                     %       .     %',\n",
       " '%                     %%%%%%%%.     %',\n",
       " '%                            %.     %',\n",
       " '%                            %.     %',\n",
       " '%                            %.     %',\n",
       " '%                            %.     %',\n",
       " '%     ...................    %.     %',\n",
       " '%     .%%%%%%%%%%%%%%%%%.......     %',\n",
       " '%     .%                            %',\n",
       " '%     .%                            %',\n",
       " '%     .%                            %',\n",
       " '%     .%                            %',\n",
       " '%     .%%%%                         %',\n",
       " '%     ...G%                         %',\n",
       " '%%%%%%%%%%%%%%%%%%%%%%%%%%%%%%%%%%%%%']"
      ]
     },
     "execution_count": 502,
     "metadata": {},
     "output_type": "execute_result"
    }
   ],
   "source": [
    "m = maze(\"openMaze.txt\")\n",
    "#%timeit m.dfs(start=m.start, end=m.end[0])\n",
    "m.bfs(start=m.start)\n",
    "#%timeit m.best_first_search(start=m.start, end=m.end[0])\n",
    "m.drawSolution()"
   ]
  },
  {
   "cell_type": "code",
   "execution_count": null,
   "metadata": {},
   "outputs": [],
   "source": [
    "###############################\n",
    "###### Multi dots search ######\n",
    "###############################"
   ]
  },
  {
   "cell_type": "code",
   "execution_count": 924,
   "metadata": {},
   "outputs": [
    {
     "name": "stdout",
     "output_type": "stream",
     "text": [
      "One dot eatten, may continue...\n",
      "One dot eatten, may continue...\n",
      "One dot eatten, may continue...\n",
      "One dot eatten, may continue...\n",
      "One dot eatten, may continue...\n",
      "One dot eatten, may continue...\n",
      "One dot eatten, may continue...\n",
      "One dot eatten, may continue...\n",
      "One dot eatten, may continue...\n",
      "One dot eatten, may continue...\n",
      "One dot eatten, may continue...\n",
      "One dot eatten, may continue...\n",
      "One dot eatten, may continue...\n",
      "One dot eatten, may continue...\n",
      "One dot eatten, may continue...\n",
      "Finished All\n"
     ]
    },
    {
     "data": {
      "text/plain": [
       "['%%%%%%%%%%%%%%%%%%%%%%%%%%%%%%',\n",
       " '%G.....P.G     %......G..G...%',\n",
       " '%  .%%%%%.%%%%%%.%. % % %%  .%',\n",
       " '%  .%  % ....%  .%. % %  %  G%',\n",
       " '%  ...G%  . .G...%G   %  %%%%%',\n",
       " '%%%%%.%%%%.%%% .%%%%%%%      %',\n",
       " '%G....    ..   ..G    % %%%  %',\n",
       " '%%.%%%%%%%%.%%%%%%%%%%% %G   %',\n",
       " '% .     %  .............%.%%%%',\n",
       " '%..     %%%%%.    %G   ...   %',\n",
       " '%G% %%%    % .%   %% %%.%%%%%%',\n",
       " '%          % G%        G     %',\n",
       " '%%%%%%%%%%%%%%%%%%%%%%%%%%%%%%']"
      ]
     },
     "execution_count": 924,
     "metadata": {},
     "output_type": "execute_result"
    }
   ],
   "source": [
    "#m = maze(\"tinySearch.txt\")\n",
    "m = maze(\"smallSearch.txt\")\n",
    "#m = maze(\"mediumSearch.txt\")\n",
    "m.bfs(start = m.start)\n",
    "m.drawSolution()"
   ]
  },
  {
   "cell_type": "code",
   "execution_count": null,
   "metadata": {},
   "outputs": [],
   "source": []
  },
  {
   "cell_type": "code",
   "execution_count": 1025,
   "metadata": {},
   "outputs": [],
   "source": [
    "###############################\n",
    "###### walking the maze #######\n",
    "###############################"
   ]
  },
  {
   "cell_type": "code",
   "execution_count": 1581,
   "metadata": {},
   "outputs": [
    {
     "name": "stdout",
     "output_type": "stream",
     "text": [
      "One dot eatten, may continue...\n",
      "Finished All\n"
     ]
    }
   ],
   "source": [
    "#m = maze(\"tinySearch.txt\")\n",
    "#m = maze(\"smallSearch.txt\")\n",
    "#m = maze(\"mediumSearch.txt\")\n",
    "m = maze(\"openMaze.txt\")\n",
    "\n",
    "m.bfs(start = m.start)\n",
    "#m.dfs(start = m.start, end = m.end[0])"
   ]
  },
  {
   "cell_type": "code",
   "execution_count": 1582,
   "metadata": {
    "collapsed": true
   },
   "outputs": [],
   "source": [
    "index = 0\n",
    "solution = copy.deepcopy(m.raw_list)  \n",
    "\n",
    "def walking(maze):\n",
    "    for pos in maze.solution[0:index]:\n",
    "        x, y = pos\n",
    "        if maze.raw_list[y][x] == \".\":\n",
    "            solution[y] = solution[y][:x] + \"G\" + solution[y][x+1:]\n",
    "        elif maze.raw_list[y][x] == \"P\":\n",
    "            solution[y] = solution[y][:x] + \"P\" + solution[y][x+1:]\n",
    "        else:\n",
    "            solution[y] = solution[y][:x] + \".\" + solution[y][x+1:]\n",
    "            \n",
    "    for i in range(len(solution)):\n",
    "        print(solution[i])"
   ]
  },
  {
   "cell_type": "code",
   "execution_count": 1639,
   "metadata": {},
   "outputs": [
    {
     "name": "stdout",
     "output_type": "stream",
     "text": [
      "%%%%%%%%%%%%%%%%%%%%%%%%%%%%%%%%%%%%%\n",
      "%                     %P.......     %\n",
      "%                     %       .     %\n",
      "%                     %       .     %\n",
      "%                     %       .     %\n",
      "%                     %       .     %\n",
      "%                     %%%%%%%%.     %\n",
      "%                            %.     %\n",
      "%                            %.     %\n",
      "%                            %.     %\n",
      "%                            %.     %\n",
      "%     ...................    %.     %\n",
      "%     .%%%%%%%%%%%%%%%%%.......     %\n",
      "%     .%                            %\n",
      "%     .%                            %\n",
      "%     .%                            %\n",
      "%     .%                            %\n",
      "%     .%%%%                         %\n",
      "%     ...G%                         %\n",
      "%%%%%%%%%%%%%%%%%%%%%%%%%%%%%%%%%%%%%\n"
     ]
    }
   ],
   "source": [
    "walking(m)    \n",
    "index = index + 1"
   ]
  },
  {
   "cell_type": "code",
   "execution_count": null,
   "metadata": {},
   "outputs": [],
   "source": []
  },
  {
   "cell_type": "code",
   "execution_count": null,
   "metadata": {},
   "outputs": [],
   "source": []
  },
  {
   "cell_type": "code",
   "execution_count": null,
   "metadata": {},
   "outputs": [],
   "source": []
  },
  {
   "cell_type": "code",
   "execution_count": null,
   "metadata": {
    "collapsed": true
   },
   "outputs": [],
   "source": []
  },
  {
   "cell_type": "code",
   "execution_count": null,
   "metadata": {
    "collapsed": true
   },
   "outputs": [],
   "source": []
  }
 ],
 "metadata": {
  "kernelspec": {
   "display_name": "Python 3",
   "language": "python",
   "name": "python3"
  },
  "language_info": {
   "codemirror_mode": {
    "name": "ipython",
    "version": 3
   },
   "file_extension": ".py",
   "mimetype": "text/x-python",
   "name": "python",
   "nbconvert_exporter": "python",
   "pygments_lexer": "ipython3",
   "version": "3.6.1"
  }
 },
 "nbformat": 4,
 "nbformat_minor": 2
}
